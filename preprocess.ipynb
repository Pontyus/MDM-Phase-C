{
 "cells": [
  {
   "cell_type": "code",
   "execution_count": 39,
   "metadata": {},
   "outputs": [
    {
     "name": "stderr",
     "output_type": "stream",
     "text": [
      "[nltk_data] Downloading package stopwords to\n",
      "[nltk_data]     /Users/zhaoke/nltk_data...\n",
      "[nltk_data]   Unzipping corpora/stopwords.zip.\n"
     ]
    },
    {
     "data": {
      "text/plain": [
       "True"
      ]
     },
     "execution_count": 39,
     "metadata": {},
     "output_type": "execute_result"
    }
   ],
   "source": [
    "import pandas as pd\n",
    "import matplotlib.pyplot as plt\n",
    "%matplotlib inline\n",
    "import random\n",
    "from sklearn.model_selection import train_test_split\n",
    "from sklearn.naive_bayes import MultinomialNB\n",
    "from sklearn import metrics\n",
    "import nltk\n",
    "nltk.download('stopwords')"
   ]
  },
  {
   "cell_type": "code",
   "execution_count": 40,
   "metadata": {},
   "outputs": [
    {
     "name": "stdout",
     "output_type": "stream",
     "text": [
      "size of training data: (498, 6)\n"
     ]
    },
    {
     "data": {
      "text/html": [
       "<div>\n",
       "<style scoped>\n",
       "    .dataframe tbody tr th:only-of-type {\n",
       "        vertical-align: middle;\n",
       "    }\n",
       "\n",
       "    .dataframe tbody tr th {\n",
       "        vertical-align: top;\n",
       "    }\n",
       "\n",
       "    .dataframe thead th {\n",
       "        text-align: right;\n",
       "    }\n",
       "</style>\n",
       "<table border=\"1\" class=\"dataframe\">\n",
       "  <thead>\n",
       "    <tr style=\"text-align: right;\">\n",
       "      <th></th>\n",
       "      <th>sentiment</th>\n",
       "      <th>id</th>\n",
       "      <th>time</th>\n",
       "      <th>device</th>\n",
       "      <th>user</th>\n",
       "      <th>tweets</th>\n",
       "    </tr>\n",
       "  </thead>\n",
       "  <tbody>\n",
       "    <tr>\n",
       "      <th>0</th>\n",
       "      <td>4</td>\n",
       "      <td>3</td>\n",
       "      <td>Mon May 11 03:17:40 UTC 2009</td>\n",
       "      <td>kindle2</td>\n",
       "      <td>tpryan</td>\n",
       "      <td>@stellargirl I loooooooovvvvvveee my Kindle2. ...</td>\n",
       "    </tr>\n",
       "    <tr>\n",
       "      <th>1</th>\n",
       "      <td>4</td>\n",
       "      <td>4</td>\n",
       "      <td>Mon May 11 03:18:03 UTC 2009</td>\n",
       "      <td>kindle2</td>\n",
       "      <td>vcu451</td>\n",
       "      <td>Reading my kindle2...  Love it... Lee childs i...</td>\n",
       "    </tr>\n",
       "    <tr>\n",
       "      <th>2</th>\n",
       "      <td>4</td>\n",
       "      <td>5</td>\n",
       "      <td>Mon May 11 03:18:54 UTC 2009</td>\n",
       "      <td>kindle2</td>\n",
       "      <td>chadfu</td>\n",
       "      <td>Ok, first assesment of the #kindle2 ...it fuck...</td>\n",
       "    </tr>\n",
       "    <tr>\n",
       "      <th>3</th>\n",
       "      <td>4</td>\n",
       "      <td>6</td>\n",
       "      <td>Mon May 11 03:19:04 UTC 2009</td>\n",
       "      <td>kindle2</td>\n",
       "      <td>SIX15</td>\n",
       "      <td>@kenburbary You'll love your Kindle2. I've had...</td>\n",
       "    </tr>\n",
       "    <tr>\n",
       "      <th>4</th>\n",
       "      <td>4</td>\n",
       "      <td>7</td>\n",
       "      <td>Mon May 11 03:21:41 UTC 2009</td>\n",
       "      <td>kindle2</td>\n",
       "      <td>yamarama</td>\n",
       "      <td>@mikefish  Fair enough. But i have the Kindle2...</td>\n",
       "    </tr>\n",
       "  </tbody>\n",
       "</table>\n",
       "</div>"
      ],
      "text/plain": [
       "   sentiment  id                          time   device      user  \\\n",
       "0          4   3  Mon May 11 03:17:40 UTC 2009  kindle2    tpryan   \n",
       "1          4   4  Mon May 11 03:18:03 UTC 2009  kindle2    vcu451   \n",
       "2          4   5  Mon May 11 03:18:54 UTC 2009  kindle2    chadfu   \n",
       "3          4   6  Mon May 11 03:19:04 UTC 2009  kindle2     SIX15   \n",
       "4          4   7  Mon May 11 03:21:41 UTC 2009  kindle2  yamarama   \n",
       "\n",
       "                                              tweets  \n",
       "0  @stellargirl I loooooooovvvvvveee my Kindle2. ...  \n",
       "1  Reading my kindle2...  Love it... Lee childs i...  \n",
       "2  Ok, first assesment of the #kindle2 ...it fuck...  \n",
       "3  @kenburbary You'll love your Kindle2. I've had...  \n",
       "4  @mikefish  Fair enough. But i have the Kindle2...  "
      ]
     },
     "execution_count": 40,
     "metadata": {},
     "output_type": "execute_result"
    }
   ],
   "source": [
    "df = pd.read_csv(\"testdata.manual.2009.06.14.csv\",encoding='ISO-8859-1',header=None)\n",
    "print(\"size of training data:\",df.shape)\n",
    "df=df.rename(columns={0:\"sentiment\",1:\"id\",2:\"time\",3:\"device\",4:\"user\",5:\"tweets\"})\n",
    "df.head()"
   ]
  },
  {
   "cell_type": "code",
   "execution_count": 41,
   "metadata": {},
   "outputs": [],
   "source": [
    "sentiment = df['sentiment'].values\n",
    "neutral_rate = (df[df['sentiment']==0].count().values[2])/len(sentiment)"
   ]
  },
  {
   "cell_type": "code",
   "execution_count": 42,
   "metadata": {},
   "outputs": [
    {
     "data": {
      "text/plain": [
       "0.35542168674698793"
      ]
     },
     "execution_count": 42,
     "metadata": {},
     "output_type": "execute_result"
    }
   ],
   "source": [
    "neutral_rate"
   ]
  },
  {
   "cell_type": "code",
   "execution_count": 43,
   "metadata": {},
   "outputs": [
    {
     "name": "stdout",
     "output_type": "stream",
     "text": [
      "the percentage of positive tweets 0.3654618473895582\n",
      "the percentage of negative tweets 0.35542168674698793\n",
      "the percentage of neutral tweets 0.2791164658634538\n"
     ]
    }
   ],
   "source": [
    "import numpy as np\n",
    "sentiment = df['sentiment'].values\n",
    "sentiment\n",
    "tweets = df['tweets'].values\n",
    "Neu_rate = (df[df['sentiment']==2].count().values[0])/len(sentiment)\n",
    "Pos_rate = (df[df['sentiment']==4].count().values[0])/len(sentiment)\n",
    "Neg_rate = (df[df['sentiment']==0].count().values[0])/len(sentiment)\n",
    "\n",
    "print('the percentage of positive tweets', Pos_rate)\n",
    "print('the percentage of negative tweets', Neg_rate)\n",
    "print('the percentage of neutral tweets', Neu_rate)"
   ]
  },
  {
   "cell_type": "code",
   "execution_count": 44,
   "metadata": {},
   "outputs": [
    {
     "data": {
      "text/plain": [
       "'Reading my kindle2...  Love it... Lee childs is good read.'"
      ]
     },
     "execution_count": 44,
     "metadata": {},
     "output_type": "execute_result"
    }
   ],
   "source": [
    "tweets[1]"
   ]
  },
  {
   "cell_type": "code",
   "execution_count": 45,
   "metadata": {},
   "outputs": [],
   "source": [
    "from nltk.tokenize import word_tokenize \n",
    "from nltk.tokenize import RegexpTokenizer"
   ]
  },
  {
   "cell_type": "code",
   "execution_count": 46,
   "metadata": {},
   "outputs": [],
   "source": [
    "index = df.index[df['sentiment'] == 4].tolist()\n",
    "tweets_pos = (df.loc[index])['tweets'].values\n",
    "\n",
    "#print(tweets_good[3])\n",
    "pos_words = []\n",
    "tokenizer = RegexpTokenizer('\\S+')\n",
    "for words in tweets_pos:\n",
    "    pos_words.append(tokenizer.tokenize(words))"
   ]
  },
  {
   "cell_type": "code",
   "execution_count": 47,
   "metadata": {},
   "outputs": [],
   "source": [
    "hashtags_pos = []\n",
    "for words in pos_words:\n",
    "    for word in words:\n",
    "        if word[0] == '#':\n",
    "            hashtags_pos.append(word)\n",
    "freqG = nltk.FreqDist(hashtags_pos)"
   ]
  },
  {
   "cell_type": "code",
   "execution_count": 48,
   "metadata": {},
   "outputs": [
    {
     "data": {
      "image/png": "[encoded data removed]",
      "text/plain": [
       "<Figure size 432x288 with 1 Axes>"
      ]
     },
     "metadata": {
      "needs_background": "light"
     },
     "output_type": "display_data"
    },
    {
     "data": {
      "text/plain": [
       "<matplotlib.axes._subplots.AxesSubplot at 0x7f87924a9b20>"
      ]
     },
     "execution_count": 48,
     "metadata": {},
     "output_type": "execute_result"
    }
   ],
   "source": [
    "freqG.plot(20) "
   ]
  },
  {
   "cell_type": "code",
   "execution_count": 49,
   "metadata": {},
   "outputs": [],
   "source": [
    "index = df.index[df['sentiment'] == 0].tolist()\n",
    "tweets_neg = (df.loc[index])['tweets'].values\n",
    "\n",
    "#print(tweets_good[3])\n",
    "neg_words = []\n",
    "tokenizer = RegexpTokenizer('\\S+')\n",
    "for words in tweets_neg:\n",
    "    neg_words.append(tokenizer.tokenize(words))\n",
    "    \n",
    "hashtags_neg = []\n",
    "for words in neg_words:\n",
    "    for word in words:\n",
    "        if word[0] == '#':\n",
    "            hashtags_neg.append(word)\n",
    "freqG = nltk.FreqDist(hashtags_neg)"
   ]
  },
  {
   "cell_type": "code",
   "execution_count": 50,
   "metadata": {},
   "outputs": [
    {
     "data": {
      "image/png": "[encoded data removed]",
      "text/plain": [
       "<Figure size 432x288 with 1 Axes>"
      ]
     },
     "metadata": {
      "needs_background": "light"
     },
     "output_type": "display_data"
    },
    {
     "data": {
      "text/plain": [
       "<matplotlib.axes._subplots.AxesSubplot at 0x7f8777deae80>"
      ]
     },
     "execution_count": 50,
     "metadata": {},
     "output_type": "execute_result"
    }
   ],
   "source": [
    "freqG.plot(20) "
   ]
  },
  {
   "cell_type": "code",
   "execution_count": 51,
   "metadata": {},
   "outputs": [
    {
     "name": "stdout",
     "output_type": "stream",
     "text": [
      "(498,)\n"
     ]
    }
   ],
   "source": [
    "print(sentiment.shape)"
   ]
  },
  {
   "cell_type": "code",
   "execution_count": 52,
   "metadata": {
    "scrolled": true
   },
   "outputs": [
    {
     "name": "stdout",
     "output_type": "stream",
     "text": [
      "['@stellargirl I loooooooovvvvvveee my Kindle2. Not that the DX is cool, but the 2 is fantastic in its own right.'\n",
      " 'Reading my kindle2...  Love it... Lee childs is good read.'\n",
      " 'Ok, first assesment of the #kindle2 ...it fucking rocks!!!'\n",
      " \"@kenburbary You'll love your Kindle2. I've had mine for a few months and never looked back. The new big one is huge! No need for remorse! :)\"\n",
      " \"@mikefish  Fair enough. But i have the Kindle2 and I think it's perfect  :)\"\n",
      " \"@richardebaker no. it is too big. I'm quite happy with the Kindle2.\"]\n"
     ]
    },
    {
     "data": {
      "text/plain": [
       "498"
      ]
     },
     "execution_count": 52,
     "metadata": {},
     "output_type": "execute_result"
    }
   ],
   "source": [
    "y = df['sentiment'].values\n",
    "X= df['tweets'].values\n",
    "print(X[:6,])\n",
    "len(X)"
   ]
  },
  {
   "cell_type": "code",
   "execution_count": 53,
   "metadata": {},
   "outputs": [
    {
     "data": {
      "text/plain": [
       "['I loooooooovvvvvveee my Kindle2. Not that the DX is cool, but the 2 is fantastic in its own right.',\n",
       " 'Reading my kindle2... Love it... Lee childs is good read.',\n",
       " 'Ok, first assesment of the #kindle2 ...it fucking rocks!!!',\n",
       " \"You'll love your Kindle2. I've had mine for a few months and never looked back. The new big one is huge! No need for remorse! :)\",\n",
       " \"Fair enough. But i have the Kindle2 and I think it's perfect :)\",\n",
       " \"no. it is too big. I'm quite happy with the Kindle2.\"]"
      ]
     },
     "execution_count": 53,
     "metadata": {},
     "output_type": "execute_result"
    }
   ],
   "source": [
    "tokenizer = RegexpTokenizer('\\S+')\n",
    "X_rm_usr = []\n",
    "for tweet in X:\n",
    "    words = tokenizer.tokenize(tweet)\n",
    "    sentence = ' '.join(c for c in list(words) if c[0] != '@')\n",
    "    X_rm_usr.append(sentence)\n",
    "X_rm_usr[:6]"
   ]
  },
  {
   "cell_type": "code",
   "execution_count": 54,
   "metadata": {},
   "outputs": [],
   "source": [
    "from nltk.tokenize import RegexpTokenizer\n",
    "from nltk.stem import PorterStemmer\n",
    "from nltk.corpus import stopwords\n",
    "corpus_words = set(nltk.corpus.words.words())\n",
    "stop_words=set(stopwords.words(\"english\"))\n",
    "def stopwords_remove(words):\n",
    "    filter_words = [word for word in words if word not in stop_words]\n",
    "    if not filter_words:       # Use full list if necessary\n",
    "        filter_words = words\n",
    "    return filter_words\n"
   ]
  },
  {
   "cell_type": "code",
   "execution_count": 55,
   "metadata": {},
   "outputs": [],
   "source": [
    "tokenizer = RegexpTokenizer('\\w+')\n",
    "#remove non words\n",
    "rm_non_words = []\n",
    "for w in X_rm_usr:\n",
    "    #w_rm = [w.lower() for w in tokenizer.tokenize(w) if w in corpus_words or not w.isalpha()]\n",
    "    x_wo_num = ''.join(c for c in w if not c.isdigit()) # remove numbers\n",
    "    w_clean = [w.lower() for w in tokenizer.tokenize(x_wo_num) if w in corpus_words or not w.isalpha()]\n",
    "    rm_non_words.append(w_clean)\n",
    "                       \n",
    "\n",
    "X_processed = []\n",
    "stemmer = PorterStemmer()\n",
    "## stem the words\n",
    "for text in rm_non_words:\n",
    "    removing_stopwords = stopwords_remove(text)\n",
    "    stemmed=[stemmer.stem(w) for w in removing_stopwords]\n",
    "    X_processed.append(stemmed)\n",
    "\n"
   ]
  },
  {
   "cell_type": "code",
   "execution_count": 56,
   "metadata": {},
   "outputs": [],
   "source": [
    "X_processed = []\n",
    "stemmer = PorterStemmer()\n",
    "## stem the words\n",
    "for text in rm_non_words:\n",
    "    stemmed=[stemmer.stem(w) for w in text]\n",
    "    removing_stopwords = stopwords_remove(stemmed)   \n",
    "    X_processed.append(removing_stopwords)"
   ]
  },
  {
   "cell_type": "code",
   "execution_count": 57,
   "metadata": {},
   "outputs": [
    {
     "data": {
      "text/plain": [
       "[['cool', 'fantast', 'right'],\n",
       " ['kindl', 'lee', 'good', 'read'],\n",
       " ['ok', 'first', 'kindl'],\n",
       " ['love',\n",
       "  'mine',\n",
       "  'never',\n",
       "  'back',\n",
       "  'new',\n",
       "  'big',\n",
       "  'one',\n",
       "  'huge',\n",
       "  'need',\n",
       "  'remors'],\n",
       " ['enough', 'think', 'perfect'],\n",
       " ['big', 'quit', 'happi']]"
      ]
     },
     "execution_count": 57,
     "metadata": {},
     "output_type": "execute_result"
    }
   ],
   "source": [
    "X_processed[:6]"
   ]
  },
  {
   "cell_type": "code",
   "execution_count": null,
   "metadata": {},
   "outputs": [],
   "source": []
  }
 ],
 "metadata": {
  "kernelspec": {
   "display_name": "Python 3",
   "language": "python",
   "name": "python3"
  },
  "language_info": {
   "codemirror_mode": {
    "name": "ipython",
    "version": 3
   },
   "file_extension": ".py",
   "mimetype": "text/x-python",
   "name": "python",
   "nbconvert_exporter": "python",
   "pygments_lexer": "ipython3",
   "version": "3.8.3"
  }
 },
 "nbformat": 4,
 "nbformat_minor": 4
}
