{
 "cells": [
  {
   "cell_type": "code",
   "execution_count": 1,
   "metadata": {},
   "outputs": [
    {
     "name": "stderr",
     "output_type": "stream",
     "text": [
      "/Users/brendaduan/anaconda3/lib/python3.7/site-packages/past/builtins/misc.py:4: DeprecationWarning: Using or importing the ABCs from 'collections' instead of from 'collections.abc' is deprecated, and in 3.8 it will stop working\n",
      "  from collections import Mapping\n",
      "[nltk_data] Downloading package stopwords to\n",
      "[nltk_data]     /Users/brendaduan/nltk_data...\n",
      "[nltk_data]   Package stopwords is already up-to-date!\n",
      "[nltk_data] Downloading package punkt to\n",
      "[nltk_data]     /Users/brendaduan/nltk_data...\n",
      "[nltk_data]   Package punkt is already up-to-date!\n",
      "[nltk_data] Downloading package averaged_perceptron_tagger to\n",
      "[nltk_data]     /Users/brendaduan/nltk_data...\n",
      "[nltk_data]   Package averaged_perceptron_tagger is already up-to-\n",
      "[nltk_data]       date!\n",
      "[nltk_data] Downloading package wordnet to\n",
      "[nltk_data]     /Users/brendaduan/nltk_data...\n",
      "[nltk_data]   Package wordnet is already up-to-date!\n"
     ]
    }
   ],
   "source": [
    "import pandas as pd\n",
    "from text_normalization import *\n",
    "from textblob import TextBlob\n",
    "import plotly.graph_objects as go"
   ]
  },
  {
   "cell_type": "code",
   "execution_count": 28,
   "metadata": {},
   "outputs": [
    {
     "data": {
      "text/html": [
       "<div>\n",
       "<style scoped>\n",
       "    .dataframe tbody tr th:only-of-type {\n",
       "        vertical-align: middle;\n",
       "    }\n",
       "\n",
       "    .dataframe tbody tr th {\n",
       "        vertical-align: top;\n",
       "    }\n",
       "\n",
       "    .dataframe thead th {\n",
       "        text-align: right;\n",
       "    }\n",
       "</style>\n",
       "<table border=\"1\" class=\"dataframe\">\n",
       "  <thead>\n",
       "    <tr style=\"text-align: right;\">\n",
       "      <th></th>\n",
       "      <th>Unnamed: 0</th>\n",
       "      <th>Unnamed: 0.1</th>\n",
       "      <th>Unnamed: 0.1.1</th>\n",
       "      <th>datetime</th>\n",
       "      <th>user_followers</th>\n",
       "      <th>polarity</th>\n",
       "      <th>subjectivity</th>\n",
       "      <th>date</th>\n",
       "      <th>sim_num</th>\n",
       "      <th>tweets_num</th>\n",
       "      <th>...</th>\n",
       "      <th>('http', 104)</th>\n",
       "      <th>('btc', 67)</th>\n",
       "      <th>('bitcoin', 66)</th>\n",
       "      <th>('crypto', 24)</th>\n",
       "      <th>('price', 17)</th>\n",
       "      <th>('eth', 13)</th>\n",
       "      <th>('hour', 10)</th>\n",
       "      <th>('binance', 8)</th>\n",
       "      <th>('ethereum', 8)</th>\n",
       "      <th>final_score</th>\n",
       "    </tr>\n",
       "  </thead>\n",
       "  <tbody>\n",
       "    <tr>\n",
       "      <td>0</td>\n",
       "      <td>0</td>\n",
       "      <td>0</td>\n",
       "      <td>0</td>\n",
       "      <td>2021-02-05</td>\n",
       "      <td>4548.698347</td>\n",
       "      <td>0.088654</td>\n",
       "      <td>0.269247</td>\n",
       "      <td>2021-02-05</td>\n",
       "      <td>108</td>\n",
       "      <td>5865</td>\n",
       "      <td>...</td>\n",
       "      <td>1714</td>\n",
       "      <td>1181</td>\n",
       "      <td>1206</td>\n",
       "      <td>380</td>\n",
       "      <td>208</td>\n",
       "      <td>231</td>\n",
       "      <td>92</td>\n",
       "      <td>60</td>\n",
       "      <td>136</td>\n",
       "      <td>0.125101</td>\n",
       "    </tr>\n",
       "    <tr>\n",
       "      <td>1</td>\n",
       "      <td>1</td>\n",
       "      <td>1</td>\n",
       "      <td>1</td>\n",
       "      <td>2021-02-06</td>\n",
       "      <td>5057.975290</td>\n",
       "      <td>0.089406</td>\n",
       "      <td>0.254639</td>\n",
       "      <td>2021-02-06</td>\n",
       "      <td>263</td>\n",
       "      <td>5646</td>\n",
       "      <td>...</td>\n",
       "      <td>3144</td>\n",
       "      <td>2477</td>\n",
       "      <td>2287</td>\n",
       "      <td>574</td>\n",
       "      <td>446</td>\n",
       "      <td>448</td>\n",
       "      <td>176</td>\n",
       "      <td>130</td>\n",
       "      <td>174</td>\n",
       "      <td>0.121094</td>\n",
       "    </tr>\n",
       "    <tr>\n",
       "      <td>2</td>\n",
       "      <td>2</td>\n",
       "      <td>2</td>\n",
       "      <td>2</td>\n",
       "      <td>2021-02-07</td>\n",
       "      <td>3971.020792</td>\n",
       "      <td>0.104879</td>\n",
       "      <td>0.278468</td>\n",
       "      <td>2021-02-07</td>\n",
       "      <td>221</td>\n",
       "      <td>5102</td>\n",
       "      <td>...</td>\n",
       "      <td>3000</td>\n",
       "      <td>1891</td>\n",
       "      <td>1854</td>\n",
       "      <td>579</td>\n",
       "      <td>414</td>\n",
       "      <td>368</td>\n",
       "      <td>175</td>\n",
       "      <td>148</td>\n",
       "      <td>183</td>\n",
       "      <td>0.135980</td>\n",
       "    </tr>\n",
       "    <tr>\n",
       "      <td>3</td>\n",
       "      <td>3</td>\n",
       "      <td>3</td>\n",
       "      <td>3</td>\n",
       "      <td>2021-02-08</td>\n",
       "      <td>8519.301452</td>\n",
       "      <td>0.094760</td>\n",
       "      <td>0.267916</td>\n",
       "      <td>2021-02-08</td>\n",
       "      <td>426</td>\n",
       "      <td>4708</td>\n",
       "      <td>...</td>\n",
       "      <td>5137</td>\n",
       "      <td>4535</td>\n",
       "      <td>4760</td>\n",
       "      <td>1122</td>\n",
       "      <td>571</td>\n",
       "      <td>440</td>\n",
       "      <td>247</td>\n",
       "      <td>212</td>\n",
       "      <td>242</td>\n",
       "      <td>0.127755</td>\n",
       "    </tr>\n",
       "    <tr>\n",
       "      <td>4</td>\n",
       "      <td>4</td>\n",
       "      <td>4</td>\n",
       "      <td>4</td>\n",
       "      <td>2021-02-09</td>\n",
       "      <td>7326.900000</td>\n",
       "      <td>0.094839</td>\n",
       "      <td>0.269521</td>\n",
       "      <td>2021-02-09</td>\n",
       "      <td>300</td>\n",
       "      <td>4651</td>\n",
       "      <td>...</td>\n",
       "      <td>4196</td>\n",
       "      <td>3180</td>\n",
       "      <td>3253</td>\n",
       "      <td>641</td>\n",
       "      <td>543</td>\n",
       "      <td>456</td>\n",
       "      <td>275</td>\n",
       "      <td>176</td>\n",
       "      <td>227</td>\n",
       "      <td>0.128276</td>\n",
       "    </tr>\n",
       "  </tbody>\n",
       "</table>\n",
       "<p>5 rows × 21 columns</p>\n",
       "</div>"
      ],
      "text/plain": [
       "   Unnamed: 0  Unnamed: 0.1  Unnamed: 0.1.1    datetime  user_followers  \\\n",
       "0           0             0               0  2021-02-05     4548.698347   \n",
       "1           1             1               1  2021-02-06     5057.975290   \n",
       "2           2             2               2  2021-02-07     3971.020792   \n",
       "3           3             3               3  2021-02-08     8519.301452   \n",
       "4           4             4               4  2021-02-09     7326.900000   \n",
       "\n",
       "   polarity  subjectivity        date  sim_num  tweets_num  ...  \\\n",
       "0  0.088654      0.269247  2021-02-05      108        5865  ...   \n",
       "1  0.089406      0.254639  2021-02-06      263        5646  ...   \n",
       "2  0.104879      0.278468  2021-02-07      221        5102  ...   \n",
       "3  0.094760      0.267916  2021-02-08      426        4708  ...   \n",
       "4  0.094839      0.269521  2021-02-09      300        4651  ...   \n",
       "\n",
       "   ('http', 104)  ('btc', 67)  ('bitcoin', 66)  ('crypto', 24)  ('price', 17)  \\\n",
       "0           1714         1181             1206             380            208   \n",
       "1           3144         2477             2287             574            446   \n",
       "2           3000         1891             1854             579            414   \n",
       "3           5137         4535             4760            1122            571   \n",
       "4           4196         3180             3253             641            543   \n",
       "\n",
       "   ('eth', 13)  ('hour', 10)  ('binance', 8)  ('ethereum', 8)  final_score  \n",
       "0          231            92              60              136     0.125101  \n",
       "1          448           176             130              174     0.121094  \n",
       "2          368           175             148              183     0.135980  \n",
       "3          440           247             212              242     0.127755  \n",
       "4          456           275             176              227     0.128276  \n",
       "\n",
       "[5 rows x 21 columns]"
      ]
     },
     "execution_count": 28,
     "metadata": {},
     "output_type": "execute_result"
    }
   ],
   "source": [
    "##loading data\n",
    "df = pd.read_csv('result.csv')\n",
    "df['date']=pd.to_datetime(df['datetime']).dt.date\n",
    "df.head()"
   ]
  },
  {
   "cell_type": "code",
   "execution_count": 3,
   "metadata": {},
   "outputs": [],
   "source": [
    "##load bitcoin price datasets\n",
    "df_coin = pd.read_csv(\"BTC-USD.csv\")\n",
    "df_coin['Date']=pd.to_datetime(df_coin['Date']).dt.date"
   ]
  },
  {
   "cell_type": "code",
   "execution_count": 4,
   "metadata": {},
   "outputs": [
    {
     "data": {
      "text/html": [
       "<div>\n",
       "<style scoped>\n",
       "    .dataframe tbody tr th:only-of-type {\n",
       "        vertical-align: middle;\n",
       "    }\n",
       "\n",
       "    .dataframe tbody tr th {\n",
       "        vertical-align: top;\n",
       "    }\n",
       "\n",
       "    .dataframe thead th {\n",
       "        text-align: right;\n",
       "    }\n",
       "</style>\n",
       "<table border=\"1\" class=\"dataframe\">\n",
       "  <thead>\n",
       "    <tr style=\"text-align: right;\">\n",
       "      <th></th>\n",
       "      <th>Date</th>\n",
       "      <th>Open</th>\n",
       "      <th>High</th>\n",
       "      <th>Low</th>\n",
       "      <th>Close</th>\n",
       "      <th>Adj Close</th>\n",
       "      <th>Volume</th>\n",
       "    </tr>\n",
       "  </thead>\n",
       "  <tbody>\n",
       "    <tr>\n",
       "      <td>0</td>\n",
       "      <td>2021-02-05</td>\n",
       "      <td>36931.546875</td>\n",
       "      <td>38225.906250</td>\n",
       "      <td>36658.761719</td>\n",
       "      <td>38144.308594</td>\n",
       "      <td>38144.308594</td>\n",
       "      <td>58598066402</td>\n",
       "    </tr>\n",
       "    <tr>\n",
       "      <td>1</td>\n",
       "      <td>2021-02-06</td>\n",
       "      <td>38138.386719</td>\n",
       "      <td>40846.546875</td>\n",
       "      <td>38138.386719</td>\n",
       "      <td>39266.011719</td>\n",
       "      <td>39266.011719</td>\n",
       "      <td>71326033653</td>\n",
       "    </tr>\n",
       "    <tr>\n",
       "      <td>2</td>\n",
       "      <td>2021-02-07</td>\n",
       "      <td>39250.191406</td>\n",
       "      <td>39621.835938</td>\n",
       "      <td>37446.152344</td>\n",
       "      <td>38903.441406</td>\n",
       "      <td>38903.441406</td>\n",
       "      <td>65500641143</td>\n",
       "    </tr>\n",
       "    <tr>\n",
       "      <td>3</td>\n",
       "      <td>2021-02-08</td>\n",
       "      <td>38886.828125</td>\n",
       "      <td>46203.929688</td>\n",
       "      <td>38076.324219</td>\n",
       "      <td>46196.464844</td>\n",
       "      <td>46196.464844</td>\n",
       "      <td>101467222687</td>\n",
       "    </tr>\n",
       "    <tr>\n",
       "      <td>4</td>\n",
       "      <td>2021-02-09</td>\n",
       "      <td>46184.992188</td>\n",
       "      <td>48003.722656</td>\n",
       "      <td>45166.960938</td>\n",
       "      <td>46481.105469</td>\n",
       "      <td>46481.105469</td>\n",
       "      <td>91809846886</td>\n",
       "    </tr>\n",
       "  </tbody>\n",
       "</table>\n",
       "</div>"
      ],
      "text/plain": [
       "         Date          Open          High           Low         Close  \\\n",
       "0  2021-02-05  36931.546875  38225.906250  36658.761719  38144.308594   \n",
       "1  2021-02-06  38138.386719  40846.546875  38138.386719  39266.011719   \n",
       "2  2021-02-07  39250.191406  39621.835938  37446.152344  38903.441406   \n",
       "3  2021-02-08  38886.828125  46203.929688  38076.324219  46196.464844   \n",
       "4  2021-02-09  46184.992188  48003.722656  45166.960938  46481.105469   \n",
       "\n",
       "      Adj Close        Volume  \n",
       "0  38144.308594   58598066402  \n",
       "1  39266.011719   71326033653  \n",
       "2  38903.441406   65500641143  \n",
       "3  46196.464844  101467222687  \n",
       "4  46481.105469   91809846886  "
      ]
     },
     "execution_count": 4,
     "metadata": {},
     "output_type": "execute_result"
    }
   ],
   "source": [
    "df_coin.head()"
   ]
  },
  {
   "cell_type": "code",
   "execution_count": 5,
   "metadata": {},
   "outputs": [],
   "source": [
    "##define plot function which can plot two line in one plot\n",
    "\n",
    "import plotly.graph_objects as go\n",
    "from plotly.subplots import make_subplots\n",
    "\n",
    "def Plot(df1,x1,y1,df2,x2,y2,title,y1_title,y2_title):\n",
    "    \"\"\"\n",
    "    input:\n",
    "        df1 -  the name of the first dataframe\n",
    "        x1 - str, the name of df1 column as x1-axis\n",
    "        y1 - str, the name of df1 column as y1-axis\n",
    "        df2 - second datafram\n",
    "        x2 - str, the name of df2 column as x2-axis\n",
    "        y2 - str, the name of df1 column as y2-axis\n",
    "        \n",
    "        titile - str, name of title \n",
    "        y1_title - str, label the y1-axis\n",
    "        y2_title - str, label the y2-axis\n",
    "        \n",
    "    \"\"\"\n",
    "    # Create figure with secondary y-axis\n",
    "    fig = make_subplots(specs=[[{\"secondary_y\": True}]])\n",
    "    # Add traces\n",
    "    fig.add_trace(\n",
    "    go.Scatter(x=df1[x1], y=df1[y1], name=y1_title),\n",
    "    secondary_y=False,\n",
    ")\n",
    "    fig.add_trace(\n",
    "    go.Scatter(x=df2[x2], y=df2[y2], name=y2_title),\n",
    "    secondary_y=True,\n",
    ")\n",
    "    # Add figure title\n",
    "    fig.update_layout(\n",
    "    title_text=title\n",
    ")\n",
    "# Set x-axis title\n",
    "#fig.update_xaxes(title_text=\"xaxis title\")\n",
    "\n",
    "# Set y-axes titles\n",
    "    fig.update_yaxes(title_text=y1_title, secondary_y=False)\n",
    "    fig.update_yaxes(title_text=y2_title, secondary_y=True)\n",
    "    fig.show()\n",
    "    "
   ]
  },
  {
   "cell_type": "code",
   "execution_count": 32,
   "metadata": {},
   "outputs": [],
   "source": [
    "df['final_score'] = df['user_followers']*0.001 + df['polarity']*0.5 + df['subjectivity']*0.3 - df['sim_num']*0.01"
   ]
  },
  {
   "cell_type": "code",
   "execution_count": 33,
   "metadata": {},
   "outputs": [
    {
     "data": {
      "application/vnd.plotly.v1+json": {
       "config": {
        "plotlyServerURL": "https://plot.ly"
       },
       "data": [
        {
         "name": "final_score",
         "type": "scatter",
         "x": [
          "2021-02-05",
          "2021-02-06",
          "2021-02-07",
          "2021-02-08",
          "2021-02-09",
          "2021-02-10",
          "2021-02-13",
          "2021-02-14",
          "2021-02-15",
          "2021-02-18",
          "2021-02-19",
          "2021-02-22",
          "2021-02-28",
          "2021-03-11",
          "2021-03-12",
          "2021-04-05",
          "2021-04-06",
          "2021-04-07",
          "2021-04-08",
          "2021-04-09",
          "2021-04-10",
          "2021-04-11",
          "2021-04-12",
          "2021-04-17",
          "2021-04-18",
          "2021-04-19",
          "2021-04-20",
          "2021-04-21",
          "2021-04-22",
          "2021-04-23",
          "2021-04-24"
         ],
         "xaxis": "x",
         "y": [
          3.5937994195681995,
          2.5490697586491695,
          1.8970004363893338,
          4.387056557003726,
          4.455175760346295,
          2.6227834077427694,
          6.418374430024144,
          1.1790635099639566,
          0.2873961263959397,
          5.007303761416539,
          2.32205616124005,
          4.191178240285119,
          4.517641625524789,
          6.027294440556883,
          1.128286265304145,
          2.274914856700474,
          1.0540007517017536,
          1.050475973294951,
          2.15728653340866,
          1.2725324342164628,
          1.5579698602327063,
          2.8002621871568847,
          5.748612887037965,
          2.505928470028469,
          -3.987436260774542,
          -1.3506318287433796,
          -1.9966623144457216,
          -2.7782726380122247,
          -5.119994934849017,
          -5.511986646787885,
          -3.9662017797771476
         ],
         "yaxis": "y"
        },
        {
         "name": "bitcoin price",
         "type": "scatter",
         "x": [
          "2021-02-05",
          "2021-02-06",
          "2021-02-07",
          "2021-02-08",
          "2021-02-09",
          "2021-02-10",
          "2021-02-11",
          "2021-02-12",
          "2021-02-13",
          "2021-02-14",
          "2021-02-15",
          "2021-02-16",
          "2021-02-17",
          "2021-02-18",
          "2021-02-19",
          "2021-02-20",
          "2021-02-21",
          "2021-02-22",
          "2021-02-23",
          "2021-02-24",
          "2021-02-25",
          "2021-02-26",
          "2021-02-27",
          "2021-02-28",
          "2021-03-01",
          "2021-03-02",
          "2021-03-03",
          "2021-03-04",
          "2021-03-05",
          "2021-03-06",
          "2021-03-07",
          "2021-03-08",
          "2021-03-09",
          "2021-03-10",
          "2021-03-11",
          "2021-03-12",
          "2021-03-13",
          "2021-03-14",
          "2021-03-15",
          "2021-03-16",
          "2021-03-17",
          "2021-03-18",
          "2021-03-19",
          "2021-03-20",
          "2021-03-21",
          "2021-03-22",
          "2021-03-23",
          "2021-03-24",
          "2021-03-25",
          "2021-03-26",
          "2021-03-27",
          "2021-03-28",
          "2021-03-29",
          "2021-03-30",
          "2021-03-31",
          "2021-04-01",
          "2021-04-02",
          "2021-04-03",
          "2021-04-04",
          "2021-04-05",
          "2021-04-06",
          "2021-04-07",
          "2021-04-08",
          "2021-04-09",
          "2021-04-10",
          "2021-04-11",
          "2021-04-12",
          "2021-04-13",
          "2021-04-14",
          "2021-04-15",
          "2021-04-16",
          "2021-04-17",
          "2021-04-18",
          "2021-04-19",
          "2021-04-20",
          "2021-04-21",
          "2021-04-22",
          "2021-04-23",
          "2021-04-24"
         ],
         "xaxis": "x",
         "y": [
          38144.308594,
          39266.011719,
          38903.441406,
          46196.464844,
          46481.105469,
          44918.183594,
          47909.332031,
          47504.851563,
          47105.515625,
          48717.289063,
          47945.058594,
          49199.871094,
          52149.007813,
          51679.796875,
          55888.132813,
          56099.51953099999,
          57539.945313,
          54207.320313,
          48824.425781,
          49705.332031,
          47093.851563,
          46339.761719,
          46188.453125,
          45137.769531,
          49631.242188,
          48378.988281,
          50538.242188,
          48561.167969,
          48927.304688,
          48912.382813,
          51206.691406,
          52246.523438,
          54824.117188,
          56008.55078099999,
          57805.12109400001,
          57332.08984400001,
          61243.085938,
          59302.31640599999,
          55907.19921900001,
          56804.90234400001,
          58870.89453099999,
          57858.921875,
          58346.65234400001,
          58313.64453099999,
          57523.421875,
          54529.14453099999,
          54738.945313,
          52774.265625,
          51704.160156,
          55137.3125,
          55973.51171900001,
          55950.74609400001,
          57750.19921900001,
          58917.69140599999,
          58918.83203099999,
          59095.80859400001,
          59384.3125,
          57603.890625,
          58758.554688,
          59057.87890599999,
          58192.359375,
          56048.9375,
          58323.953125,
          58245.00390599999,
          59793.234375,
          60204.96484400001,
          59893.453125,
          63503.45703099999,
          63109.695313,
          63314.01171900001,
          61572.789063,
          60683.820313,
          56216.18359400001,
          55724.265625,
          56473.03125,
          53906.08984400001,
          51762.273438,
          51093.652344,
          50050.867188
         ],
         "yaxis": "y2"
        }
       ],
       "layout": {
        "template": {
         "data": {
          "bar": [
           {
            "error_x": {
             "color": "#2a3f5f"
            },
            "error_y": {
             "color": "#2a3f5f"
            },
            "marker": {
             "line": {
              "color": "#E5ECF6",
              "width": 0.5
             }
            },
            "type": "bar"
           }
          ],
          "barpolar": [
           {
            "marker": {
             "line": {
              "color": "#E5ECF6",
              "width": 0.5
             }
            },
            "type": "barpolar"
           }
          ],
          "carpet": [
           {
            "aaxis": {
             "endlinecolor": "#2a3f5f",
             "gridcolor": "white",
             "linecolor": "white",
             "minorgridcolor": "white",
             "startlinecolor": "#2a3f5f"
            },
            "baxis": {
             "endlinecolor": "#2a3f5f",
             "gridcolor": "white",
             "linecolor": "white",
             "minorgridcolor": "white",
             "startlinecolor": "#2a3f5f"
            },
            "type": "carpet"
           }
          ],
          "choropleth": [
           {
            "colorbar": {
             "outlinewidth": 0,
             "ticks": ""
            },
            "type": "choropleth"
           }
          ],
          "contour": [
           {
            "colorbar": {
             "outlinewidth": 0,
             "ticks": ""
            },
            "colorscale": [
             [
              0,
              "#0d0887"
             ],
             [
              0.1111111111111111,
              "#46039f"
             ],
             [
              0.2222222222222222,
              "#7201a8"
             ],
             [
              0.3333333333333333,
              "#9c179e"
             ],
             [
              0.4444444444444444,
              "#bd3786"
             ],
             [
              0.5555555555555556,
              "#d8576b"
             ],
             [
              0.6666666666666666,
              "#ed7953"
             ],
             [
              0.7777777777777778,
              "#fb9f3a"
             ],
             [
              0.8888888888888888,
              "#fdca26"
             ],
             [
              1,
              "#f0f921"
             ]
            ],
            "type": "contour"
           }
          ],
          "contourcarpet": [
           {
            "colorbar": {
             "outlinewidth": 0,
             "ticks": ""
            },
            "type": "contourcarpet"
           }
          ],
          "heatmap": [
           {
            "colorbar": {
             "outlinewidth": 0,
             "ticks": ""
            },
            "colorscale": [
             [
              0,
              "#0d0887"
             ],
             [
              0.1111111111111111,
              "#46039f"
             ],
             [
              0.2222222222222222,
              "#7201a8"
             ],
             [
              0.3333333333333333,
              "#9c179e"
             ],
             [
              0.4444444444444444,
              "#bd3786"
             ],
             [
              0.5555555555555556,
              "#d8576b"
             ],
             [
              0.6666666666666666,
              "#ed7953"
             ],
             [
              0.7777777777777778,
              "#fb9f3a"
             ],
             [
              0.8888888888888888,
              "#fdca26"
             ],
             [
              1,
              "#f0f921"
             ]
            ],
            "type": "heatmap"
           }
          ],
          "heatmapgl": [
           {
            "colorbar": {
             "outlinewidth": 0,
             "ticks": ""
            },
            "colorscale": [
             [
              0,
              "#0d0887"
             ],
             [
              0.1111111111111111,
              "#46039f"
             ],
             [
              0.2222222222222222,
              "#7201a8"
             ],
             [
              0.3333333333333333,
              "#9c179e"
             ],
             [
              0.4444444444444444,
              "#bd3786"
             ],
             [
              0.5555555555555556,
              "#d8576b"
             ],
             [
              0.6666666666666666,
              "#ed7953"
             ],
             [
              0.7777777777777778,
              "#fb9f3a"
             ],
             [
              0.8888888888888888,
              "#fdca26"
             ],
             [
              1,
              "#f0f921"
             ]
            ],
            "type": "heatmapgl"
           }
          ],
          "histogram": [
           {
            "marker": {
             "colorbar": {
              "outlinewidth": 0,
              "ticks": ""
             }
            },
            "type": "histogram"
           }
          ],
          "histogram2d": [
           {
            "colorbar": {
             "outlinewidth": 0,
             "ticks": ""
            },
            "colorscale": [
             [
              0,
              "#0d0887"
             ],
             [
              0.1111111111111111,
              "#46039f"
             ],
             [
              0.2222222222222222,
              "#7201a8"
             ],
             [
              0.3333333333333333,
              "#9c179e"
             ],
             [
              0.4444444444444444,
              "#bd3786"
             ],
             [
              0.5555555555555556,
              "#d8576b"
             ],
             [
              0.6666666666666666,
              "#ed7953"
             ],
             [
              0.7777777777777778,
              "#fb9f3a"
             ],
             [
              0.8888888888888888,
              "#fdca26"
             ],
             [
              1,
              "#f0f921"
             ]
            ],
            "type": "histogram2d"
           }
          ],
          "histogram2dcontour": [
           {
            "colorbar": {
             "outlinewidth": 0,
             "ticks": ""
            },
            "colorscale": [
             [
              0,
              "#0d0887"
             ],
             [
              0.1111111111111111,
              "#46039f"
             ],
             [
              0.2222222222222222,
              "#7201a8"
             ],
             [
              0.3333333333333333,
              "#9c179e"
             ],
             [
              0.4444444444444444,
              "#bd3786"
             ],
             [
              0.5555555555555556,
              "#d8576b"
             ],
             [
              0.6666666666666666,
              "#ed7953"
             ],
             [
              0.7777777777777778,
              "#fb9f3a"
             ],
             [
              0.8888888888888888,
              "#fdca26"
             ],
             [
              1,
              "#f0f921"
             ]
            ],
            "type": "histogram2dcontour"
           }
          ],
          "mesh3d": [
           {
            "colorbar": {
             "outlinewidth": 0,
             "ticks": ""
            },
            "type": "mesh3d"
           }
          ],
          "parcoords": [
           {
            "line": {
             "colorbar": {
              "outlinewidth": 0,
              "ticks": ""
             }
            },
            "type": "parcoords"
           }
          ],
          "pie": [
           {
            "automargin": true,
            "type": "pie"
           }
          ],
          "scatter": [
           {
            "marker": {
             "colorbar": {
              "outlinewidth": 0,
              "ticks": ""
             }
            },
            "type": "scatter"
           }
          ],
          "scatter3d": [
           {
            "line": {
             "colorbar": {
              "outlinewidth": 0,
              "ticks": ""
             }
            },
            "marker": {
             "colorbar": {
              "outlinewidth": 0,
              "ticks": ""
             }
            },
            "type": "scatter3d"
           }
          ],
          "scattercarpet": [
           {
            "marker": {
             "colorbar": {
              "outlinewidth": 0,
              "ticks": ""
             }
            },
            "type": "scattercarpet"
           }
          ],
          "scattergeo": [
           {
            "marker": {
             "colorbar": {
              "outlinewidth": 0,
              "ticks": ""
             }
            },
            "type": "scattergeo"
           }
          ],
          "scattergl": [
           {
            "marker": {
             "colorbar": {
              "outlinewidth": 0,
              "ticks": ""
             }
            },
            "type": "scattergl"
           }
          ],
          "scattermapbox": [
           {
            "marker": {
             "colorbar": {
              "outlinewidth": 0,
              "ticks": ""
             }
            },
            "type": "scattermapbox"
           }
          ],
          "scatterpolar": [
           {
            "marker": {
             "colorbar": {
              "outlinewidth": 0,
              "ticks": ""
             }
            },
            "type": "scatterpolar"
           }
          ],
          "scatterpolargl": [
           {
            "marker": {
             "colorbar": {
              "outlinewidth": 0,
              "ticks": ""
             }
            },
            "type": "scatterpolargl"
           }
          ],
          "scatterternary": [
           {
            "marker": {
             "colorbar": {
              "outlinewidth": 0,
              "ticks": ""
             }
            },
            "type": "scatterternary"
           }
          ],
          "surface": [
           {
            "colorbar": {
             "outlinewidth": 0,
             "ticks": ""
            },
            "colorscale": [
             [
              0,
              "#0d0887"
             ],
             [
              0.1111111111111111,
              "#46039f"
             ],
             [
              0.2222222222222222,
              "#7201a8"
             ],
             [
              0.3333333333333333,
              "#9c179e"
             ],
             [
              0.4444444444444444,
              "#bd3786"
             ],
             [
              0.5555555555555556,
              "#d8576b"
             ],
             [
              0.6666666666666666,
              "#ed7953"
             ],
             [
              0.7777777777777778,
              "#fb9f3a"
             ],
             [
              0.8888888888888888,
              "#fdca26"
             ],
             [
              1,
              "#f0f921"
             ]
            ],
            "type": "surface"
           }
          ],
          "table": [
           {
            "cells": {
             "fill": {
              "color": "#EBF0F8"
             },
             "line": {
              "color": "white"
             }
            },
            "header": {
             "fill": {
              "color": "#C8D4E3"
             },
             "line": {
              "color": "white"
             }
            },
            "type": "table"
           }
          ]
         },
         "layout": {
          "annotationdefaults": {
           "arrowcolor": "#2a3f5f",
           "arrowhead": 0,
           "arrowwidth": 1
          },
          "autotypenumbers": "strict",
          "coloraxis": {
           "colorbar": {
            "outlinewidth": 0,
            "ticks": ""
           }
          },
          "colorscale": {
           "diverging": [
            [
             0,
             "#8e0152"
            ],
            [
             0.1,
             "#c51b7d"
            ],
            [
             0.2,
             "#de77ae"
            ],
            [
             0.3,
             "#f1b6da"
            ],
            [
             0.4,
             "#fde0ef"
            ],
            [
             0.5,
             "#f7f7f7"
            ],
            [
             0.6,
             "#e6f5d0"
            ],
            [
             0.7,
             "#b8e186"
            ],
            [
             0.8,
             "#7fbc41"
            ],
            [
             0.9,
             "#4d9221"
            ],
            [
             1,
             "#276419"
            ]
           ],
           "sequential": [
            [
             0,
             "#0d0887"
            ],
            [
             0.1111111111111111,
             "#46039f"
            ],
            [
             0.2222222222222222,
             "#7201a8"
            ],
            [
             0.3333333333333333,
             "#9c179e"
            ],
            [
             0.4444444444444444,
             "#bd3786"
            ],
            [
             0.5555555555555556,
             "#d8576b"
            ],
            [
             0.6666666666666666,
             "#ed7953"
            ],
            [
             0.7777777777777778,
             "#fb9f3a"
            ],
            [
             0.8888888888888888,
             "#fdca26"
            ],
            [
             1,
             "#f0f921"
            ]
           ],
           "sequentialminus": [
            [
             0,
             "#0d0887"
            ],
            [
             0.1111111111111111,
             "#46039f"
            ],
            [
             0.2222222222222222,
             "#7201a8"
            ],
            [
             0.3333333333333333,
             "#9c179e"
            ],
            [
             0.4444444444444444,
             "#bd3786"
            ],
            [
             0.5555555555555556,
             "#d8576b"
            ],
            [
             0.6666666666666666,
             "#ed7953"
            ],
            [
             0.7777777777777778,
             "#fb9f3a"
            ],
            [
             0.8888888888888888,
             "#fdca26"
            ],
            [
             1,
             "#f0f921"
            ]
           ]
          },
          "colorway": [
           "#636efa",
           "#EF553B",
           "#00cc96",
           "#ab63fa",
           "#FFA15A",
           "#19d3f3",
           "#FF6692",
           "#B6E880",
           "#FF97FF",
           "#FECB52"
          ],
          "font": {
           "color": "#2a3f5f"
          },
          "geo": {
           "bgcolor": "white",
           "lakecolor": "white",
           "landcolor": "#E5ECF6",
           "showlakes": true,
           "showland": true,
           "subunitcolor": "white"
          },
          "hoverlabel": {
           "align": "left"
          },
          "hovermode": "closest",
          "mapbox": {
           "style": "light"
          },
          "paper_bgcolor": "white",
          "plot_bgcolor": "#E5ECF6",
          "polar": {
           "angularaxis": {
            "gridcolor": "white",
            "linecolor": "white",
            "ticks": ""
           },
           "bgcolor": "#E5ECF6",
           "radialaxis": {
            "gridcolor": "white",
            "linecolor": "white",
            "ticks": ""
           }
          },
          "scene": {
           "xaxis": {
            "backgroundcolor": "#E5ECF6",
            "gridcolor": "white",
            "gridwidth": 2,
            "linecolor": "white",
            "showbackground": true,
            "ticks": "",
            "zerolinecolor": "white"
           },
           "yaxis": {
            "backgroundcolor": "#E5ECF6",
            "gridcolor": "white",
            "gridwidth": 2,
            "linecolor": "white",
            "showbackground": true,
            "ticks": "",
            "zerolinecolor": "white"
           },
           "zaxis": {
            "backgroundcolor": "#E5ECF6",
            "gridcolor": "white",
            "gridwidth": 2,
            "linecolor": "white",
            "showbackground": true,
            "ticks": "",
            "zerolinecolor": "white"
           }
          },
          "shapedefaults": {
           "line": {
            "color": "#2a3f5f"
           }
          },
          "ternary": {
           "aaxis": {
            "gridcolor": "white",
            "linecolor": "white",
            "ticks": ""
           },
           "baxis": {
            "gridcolor": "white",
            "linecolor": "white",
            "ticks": ""
           },
           "bgcolor": "#E5ECF6",
           "caxis": {
            "gridcolor": "white",
            "linecolor": "white",
            "ticks": ""
           }
          },
          "title": {
           "x": 0.05
          },
          "xaxis": {
           "automargin": true,
           "gridcolor": "white",
           "linecolor": "white",
           "ticks": "",
           "title": {
            "standoff": 15
           },
           "zerolinecolor": "white",
           "zerolinewidth": 2
          },
          "yaxis": {
           "automargin": true,
           "gridcolor": "white",
           "linecolor": "white",
           "ticks": "",
           "title": {
            "standoff": 15
           },
           "zerolinecolor": "white",
           "zerolinewidth": 2
          }
         }
        },
        "title": {
         "text": "title"
        },
        "xaxis": {
         "anchor": "y",
         "domain": [
          0,
          0.94
         ]
        },
        "yaxis": {
         "anchor": "x",
         "domain": [
          0,
          1
         ],
         "title": {
          "text": "final_score"
         }
        },
        "yaxis2": {
         "anchor": "x",
         "overlaying": "y",
         "side": "right",
         "title": {
          "text": "bitcoin price"
         }
        }
       }
      },
      "text/html": [
       "<div>                            <div id=\"313a7450-861c-4805-a18d-df02b55bde84\" class=\"plotly-graph-div\" style=\"height:525px; width:100%;\"></div>            <script type=\"text/javascript\">                require([\"plotly\"], function(Plotly) {                    window.PLOTLYENV=window.PLOTLYENV || {};                                    if (document.getElementById(\"313a7450-861c-4805-a18d-df02b55bde84\")) {                    Plotly.newPlot(                        \"313a7450-861c-4805-a18d-df02b55bde84\",                        [{\"name\": \"final_score\", \"type\": \"scatter\", \"x\": [\"2021-02-05\", \"2021-02-06\", \"2021-02-07\", \"2021-02-08\", \"2021-02-09\", \"2021-02-10\", \"2021-02-13\", \"2021-02-14\", \"2021-02-15\", \"2021-02-18\", \"2021-02-19\", \"2021-02-22\", \"2021-02-28\", \"2021-03-11\", \"2021-03-12\", \"2021-04-05\", \"2021-04-06\", \"2021-04-07\", \"2021-04-08\", \"2021-04-09\", \"2021-04-10\", \"2021-04-11\", \"2021-04-12\", \"2021-04-17\", \"2021-04-18\", \"2021-04-19\", \"2021-04-20\", \"2021-04-21\", \"2021-04-22\", \"2021-04-23\", \"2021-04-24\"], \"xaxis\": \"x\", \"y\": [3.5937994195681995, 2.5490697586491695, 1.8970004363893338, 4.387056557003726, 4.455175760346295, 2.6227834077427694, 6.418374430024144, 1.1790635099639566, 0.2873961263959397, 5.007303761416539, 2.32205616124005, 4.191178240285119, 4.517641625524789, 6.027294440556883, 1.128286265304145, 2.274914856700474, 1.0540007517017536, 1.050475973294951, 2.15728653340866, 1.2725324342164628, 1.5579698602327063, 2.8002621871568847, 5.748612887037965, 2.505928470028469, -3.987436260774542, -1.3506318287433796, -1.9966623144457216, -2.7782726380122247, -5.119994934849017, -5.511986646787885, -3.9662017797771476], \"yaxis\": \"y\"}, {\"name\": \"bitcoin price\", \"type\": \"scatter\", \"x\": [\"2021-02-05\", \"2021-02-06\", \"2021-02-07\", \"2021-02-08\", \"2021-02-09\", \"2021-02-10\", \"2021-02-11\", \"2021-02-12\", \"2021-02-13\", \"2021-02-14\", \"2021-02-15\", \"2021-02-16\", \"2021-02-17\", \"2021-02-18\", \"2021-02-19\", \"2021-02-20\", \"2021-02-21\", \"2021-02-22\", \"2021-02-23\", \"2021-02-24\", \"2021-02-25\", \"2021-02-26\", \"2021-02-27\", \"2021-02-28\", \"2021-03-01\", \"2021-03-02\", \"2021-03-03\", \"2021-03-04\", \"2021-03-05\", \"2021-03-06\", \"2021-03-07\", \"2021-03-08\", \"2021-03-09\", \"2021-03-10\", \"2021-03-11\", \"2021-03-12\", \"2021-03-13\", \"2021-03-14\", \"2021-03-15\", \"2021-03-16\", \"2021-03-17\", \"2021-03-18\", \"2021-03-19\", \"2021-03-20\", \"2021-03-21\", \"2021-03-22\", \"2021-03-23\", \"2021-03-24\", \"2021-03-25\", \"2021-03-26\", \"2021-03-27\", \"2021-03-28\", \"2021-03-29\", \"2021-03-30\", \"2021-03-31\", \"2021-04-01\", \"2021-04-02\", \"2021-04-03\", \"2021-04-04\", \"2021-04-05\", \"2021-04-06\", \"2021-04-07\", \"2021-04-08\", \"2021-04-09\", \"2021-04-10\", \"2021-04-11\", \"2021-04-12\", \"2021-04-13\", \"2021-04-14\", \"2021-04-15\", \"2021-04-16\", \"2021-04-17\", \"2021-04-18\", \"2021-04-19\", \"2021-04-20\", \"2021-04-21\", \"2021-04-22\", \"2021-04-23\", \"2021-04-24\"], \"xaxis\": \"x\", \"y\": [38144.308594, 39266.011719, 38903.441406, 46196.464844, 46481.105469, 44918.183594, 47909.332031, 47504.851563, 47105.515625, 48717.289063, 47945.058594, 49199.871094, 52149.007813, 51679.796875, 55888.132813, 56099.51953099999, 57539.945313, 54207.320313, 48824.425781, 49705.332031, 47093.851563, 46339.761719, 46188.453125, 45137.769531, 49631.242188, 48378.988281, 50538.242188, 48561.167969, 48927.304688, 48912.382813, 51206.691406, 52246.523438, 54824.117188, 56008.55078099999, 57805.12109400001, 57332.08984400001, 61243.085938, 59302.31640599999, 55907.19921900001, 56804.90234400001, 58870.89453099999, 57858.921875, 58346.65234400001, 58313.64453099999, 57523.421875, 54529.14453099999, 54738.945313, 52774.265625, 51704.160156, 55137.3125, 55973.51171900001, 55950.74609400001, 57750.19921900001, 58917.69140599999, 58918.83203099999, 59095.80859400001, 59384.3125, 57603.890625, 58758.554688, 59057.87890599999, 58192.359375, 56048.9375, 58323.953125, 58245.00390599999, 59793.234375, 60204.96484400001, 59893.453125, 63503.45703099999, 63109.695313, 63314.01171900001, 61572.789063, 60683.820313, 56216.18359400001, 55724.265625, 56473.03125, 53906.08984400001, 51762.273438, 51093.652344, 50050.867188], \"yaxis\": \"y2\"}],                        {\"template\": {\"data\": {\"bar\": [{\"error_x\": {\"color\": \"#2a3f5f\"}, \"error_y\": {\"color\": \"#2a3f5f\"}, \"marker\": {\"line\": {\"color\": \"#E5ECF6\", \"width\": 0.5}}, \"type\": \"bar\"}], \"barpolar\": [{\"marker\": {\"line\": {\"color\": \"#E5ECF6\", \"width\": 0.5}}, \"type\": \"barpolar\"}], \"carpet\": [{\"aaxis\": {\"endlinecolor\": \"#2a3f5f\", \"gridcolor\": \"white\", \"linecolor\": \"white\", \"minorgridcolor\": \"white\", \"startlinecolor\": \"#2a3f5f\"}, \"baxis\": {\"endlinecolor\": \"#2a3f5f\", \"gridcolor\": \"white\", \"linecolor\": \"white\", \"minorgridcolor\": \"white\", \"startlinecolor\": \"#2a3f5f\"}, \"type\": \"carpet\"}], \"choropleth\": [{\"colorbar\": {\"outlinewidth\": 0, \"ticks\": \"\"}, \"type\": \"choropleth\"}], \"contour\": [{\"colorbar\": {\"outlinewidth\": 0, \"ticks\": \"\"}, \"colorscale\": [[0.0, \"#0d0887\"], [0.1111111111111111, \"#46039f\"], [0.2222222222222222, \"#7201a8\"], [0.3333333333333333, \"#9c179e\"], [0.4444444444444444, \"#bd3786\"], [0.5555555555555556, \"#d8576b\"], [0.6666666666666666, \"#ed7953\"], [0.7777777777777778, \"#fb9f3a\"], [0.8888888888888888, \"#fdca26\"], [1.0, \"#f0f921\"]], \"type\": \"contour\"}], \"contourcarpet\": [{\"colorbar\": {\"outlinewidth\": 0, \"ticks\": \"\"}, \"type\": \"contourcarpet\"}], \"heatmap\": [{\"colorbar\": {\"outlinewidth\": 0, \"ticks\": \"\"}, \"colorscale\": [[0.0, \"#0d0887\"], [0.1111111111111111, \"#46039f\"], [0.2222222222222222, \"#7201a8\"], [0.3333333333333333, \"#9c179e\"], [0.4444444444444444, \"#bd3786\"], [0.5555555555555556, \"#d8576b\"], [0.6666666666666666, \"#ed7953\"], [0.7777777777777778, \"#fb9f3a\"], [0.8888888888888888, \"#fdca26\"], [1.0, \"#f0f921\"]], \"type\": \"heatmap\"}], \"heatmapgl\": [{\"colorbar\": {\"outlinewidth\": 0, \"ticks\": \"\"}, \"colorscale\": [[0.0, \"#0d0887\"], [0.1111111111111111, \"#46039f\"], [0.2222222222222222, \"#7201a8\"], [0.3333333333333333, \"#9c179e\"], [0.4444444444444444, \"#bd3786\"], [0.5555555555555556, \"#d8576b\"], [0.6666666666666666, \"#ed7953\"], [0.7777777777777778, \"#fb9f3a\"], [0.8888888888888888, \"#fdca26\"], [1.0, \"#f0f921\"]], \"type\": \"heatmapgl\"}], \"histogram\": [{\"marker\": {\"colorbar\": {\"outlinewidth\": 0, \"ticks\": \"\"}}, \"type\": \"histogram\"}], \"histogram2d\": [{\"colorbar\": {\"outlinewidth\": 0, \"ticks\": \"\"}, \"colorscale\": [[0.0, \"#0d0887\"], [0.1111111111111111, \"#46039f\"], [0.2222222222222222, \"#7201a8\"], [0.3333333333333333, \"#9c179e\"], [0.4444444444444444, \"#bd3786\"], [0.5555555555555556, \"#d8576b\"], [0.6666666666666666, \"#ed7953\"], [0.7777777777777778, \"#fb9f3a\"], [0.8888888888888888, \"#fdca26\"], [1.0, \"#f0f921\"]], \"type\": \"histogram2d\"}], \"histogram2dcontour\": [{\"colorbar\": {\"outlinewidth\": 0, \"ticks\": \"\"}, \"colorscale\": [[0.0, \"#0d0887\"], [0.1111111111111111, \"#46039f\"], [0.2222222222222222, \"#7201a8\"], [0.3333333333333333, \"#9c179e\"], [0.4444444444444444, \"#bd3786\"], [0.5555555555555556, \"#d8576b\"], [0.6666666666666666, \"#ed7953\"], [0.7777777777777778, \"#fb9f3a\"], [0.8888888888888888, \"#fdca26\"], [1.0, \"#f0f921\"]], \"type\": \"histogram2dcontour\"}], \"mesh3d\": [{\"colorbar\": {\"outlinewidth\": 0, \"ticks\": \"\"}, \"type\": \"mesh3d\"}], \"parcoords\": [{\"line\": {\"colorbar\": {\"outlinewidth\": 0, \"ticks\": \"\"}}, \"type\": \"parcoords\"}], \"pie\": [{\"automargin\": true, \"type\": \"pie\"}], \"scatter\": [{\"marker\": {\"colorbar\": {\"outlinewidth\": 0, \"ticks\": \"\"}}, \"type\": \"scatter\"}], \"scatter3d\": [{\"line\": {\"colorbar\": {\"outlinewidth\": 0, \"ticks\": \"\"}}, \"marker\": {\"colorbar\": {\"outlinewidth\": 0, \"ticks\": \"\"}}, \"type\": \"scatter3d\"}], \"scattercarpet\": [{\"marker\": {\"colorbar\": {\"outlinewidth\": 0, \"ticks\": \"\"}}, \"type\": \"scattercarpet\"}], \"scattergeo\": [{\"marker\": {\"colorbar\": {\"outlinewidth\": 0, \"ticks\": \"\"}}, \"type\": \"scattergeo\"}], \"scattergl\": [{\"marker\": {\"colorbar\": {\"outlinewidth\": 0, \"ticks\": \"\"}}, \"type\": \"scattergl\"}], \"scattermapbox\": [{\"marker\": {\"colorbar\": {\"outlinewidth\": 0, \"ticks\": \"\"}}, \"type\": \"scattermapbox\"}], \"scatterpolar\": [{\"marker\": {\"colorbar\": {\"outlinewidth\": 0, \"ticks\": \"\"}}, \"type\": \"scatterpolar\"}], \"scatterpolargl\": [{\"marker\": {\"colorbar\": {\"outlinewidth\": 0, \"ticks\": \"\"}}, \"type\": \"scatterpolargl\"}], \"scatterternary\": [{\"marker\": {\"colorbar\": {\"outlinewidth\": 0, \"ticks\": \"\"}}, \"type\": \"scatterternary\"}], \"surface\": [{\"colorbar\": {\"outlinewidth\": 0, \"ticks\": \"\"}, \"colorscale\": [[0.0, \"#0d0887\"], [0.1111111111111111, \"#46039f\"], [0.2222222222222222, \"#7201a8\"], [0.3333333333333333, \"#9c179e\"], [0.4444444444444444, \"#bd3786\"], [0.5555555555555556, \"#d8576b\"], [0.6666666666666666, \"#ed7953\"], [0.7777777777777778, \"#fb9f3a\"], [0.8888888888888888, \"#fdca26\"], [1.0, \"#f0f921\"]], \"type\": \"surface\"}], \"table\": [{\"cells\": {\"fill\": {\"color\": \"#EBF0F8\"}, \"line\": {\"color\": \"white\"}}, \"header\": {\"fill\": {\"color\": \"#C8D4E3\"}, \"line\": {\"color\": \"white\"}}, \"type\": \"table\"}]}, \"layout\": {\"annotationdefaults\": {\"arrowcolor\": \"#2a3f5f\", \"arrowhead\": 0, \"arrowwidth\": 1}, \"autotypenumbers\": \"strict\", \"coloraxis\": {\"colorbar\": {\"outlinewidth\": 0, \"ticks\": \"\"}}, \"colorscale\": {\"diverging\": [[0, \"#8e0152\"], [0.1, \"#c51b7d\"], [0.2, \"#de77ae\"], [0.3, \"#f1b6da\"], [0.4, \"#fde0ef\"], [0.5, \"#f7f7f7\"], [0.6, \"#e6f5d0\"], [0.7, \"#b8e186\"], [0.8, \"#7fbc41\"], [0.9, \"#4d9221\"], [1, \"#276419\"]], \"sequential\": [[0.0, \"#0d0887\"], [0.1111111111111111, \"#46039f\"], [0.2222222222222222, \"#7201a8\"], [0.3333333333333333, \"#9c179e\"], [0.4444444444444444, \"#bd3786\"], [0.5555555555555556, \"#d8576b\"], [0.6666666666666666, \"#ed7953\"], [0.7777777777777778, \"#fb9f3a\"], [0.8888888888888888, \"#fdca26\"], [1.0, \"#f0f921\"]], \"sequentialminus\": [[0.0, \"#0d0887\"], [0.1111111111111111, \"#46039f\"], [0.2222222222222222, \"#7201a8\"], [0.3333333333333333, \"#9c179e\"], [0.4444444444444444, \"#bd3786\"], [0.5555555555555556, \"#d8576b\"], [0.6666666666666666, \"#ed7953\"], [0.7777777777777778, \"#fb9f3a\"], [0.8888888888888888, \"#fdca26\"], [1.0, \"#f0f921\"]]}, \"colorway\": [\"#636efa\", \"#EF553B\", \"#00cc96\", \"#ab63fa\", \"#FFA15A\", \"#19d3f3\", \"#FF6692\", \"#B6E880\", \"#FF97FF\", \"#FECB52\"], \"font\": {\"color\": \"#2a3f5f\"}, \"geo\": {\"bgcolor\": \"white\", \"lakecolor\": \"white\", \"landcolor\": \"#E5ECF6\", \"showlakes\": true, \"showland\": true, \"subunitcolor\": \"white\"}, \"hoverlabel\": {\"align\": \"left\"}, \"hovermode\": \"closest\", \"mapbox\": {\"style\": \"light\"}, \"paper_bgcolor\": \"white\", \"plot_bgcolor\": \"#E5ECF6\", \"polar\": {\"angularaxis\": {\"gridcolor\": \"white\", \"linecolor\": \"white\", \"ticks\": \"\"}, \"bgcolor\": \"#E5ECF6\", \"radialaxis\": {\"gridcolor\": \"white\", \"linecolor\": \"white\", \"ticks\": \"\"}}, \"scene\": {\"xaxis\": {\"backgroundcolor\": \"#E5ECF6\", \"gridcolor\": \"white\", \"gridwidth\": 2, \"linecolor\": \"white\", \"showbackground\": true, \"ticks\": \"\", \"zerolinecolor\": \"white\"}, \"yaxis\": {\"backgroundcolor\": \"#E5ECF6\", \"gridcolor\": \"white\", \"gridwidth\": 2, \"linecolor\": \"white\", \"showbackground\": true, \"ticks\": \"\", \"zerolinecolor\": \"white\"}, \"zaxis\": {\"backgroundcolor\": \"#E5ECF6\", \"gridcolor\": \"white\", \"gridwidth\": 2, \"linecolor\": \"white\", \"showbackground\": true, \"ticks\": \"\", \"zerolinecolor\": \"white\"}}, \"shapedefaults\": {\"line\": {\"color\": \"#2a3f5f\"}}, \"ternary\": {\"aaxis\": {\"gridcolor\": \"white\", \"linecolor\": \"white\", \"ticks\": \"\"}, \"baxis\": {\"gridcolor\": \"white\", \"linecolor\": \"white\", \"ticks\": \"\"}, \"bgcolor\": \"#E5ECF6\", \"caxis\": {\"gridcolor\": \"white\", \"linecolor\": \"white\", \"ticks\": \"\"}}, \"title\": {\"x\": 0.05}, \"xaxis\": {\"automargin\": true, \"gridcolor\": \"white\", \"linecolor\": \"white\", \"ticks\": \"\", \"title\": {\"standoff\": 15}, \"zerolinecolor\": \"white\", \"zerolinewidth\": 2}, \"yaxis\": {\"automargin\": true, \"gridcolor\": \"white\", \"linecolor\": \"white\", \"ticks\": \"\", \"title\": {\"standoff\": 15}, \"zerolinecolor\": \"white\", \"zerolinewidth\": 2}}}, \"title\": {\"text\": \"title\"}, \"xaxis\": {\"anchor\": \"y\", \"domain\": [0.0, 0.94]}, \"yaxis\": {\"anchor\": \"x\", \"domain\": [0.0, 1.0], \"title\": {\"text\": \"final_score\"}}, \"yaxis2\": {\"anchor\": \"x\", \"overlaying\": \"y\", \"side\": \"right\", \"title\": {\"text\": \"bitcoin price\"}}},                        {\"responsive\": true}                    ).then(function(){\n",
       "                            \n",
       "var gd = document.getElementById('313a7450-861c-4805-a18d-df02b55bde84');\n",
       "var x = new MutationObserver(function (mutations, observer) {{\n",
       "        var display = window.getComputedStyle(gd).display;\n",
       "        if (!display || display === 'none') {{\n",
       "            console.log([gd, 'removed!']);\n",
       "            Plotly.purge(gd);\n",
       "            observer.disconnect();\n",
       "        }}\n",
       "}});\n",
       "\n",
       "// Listen for the removal of the full notebook cells\n",
       "var notebookContainer = gd.closest('#notebook-container');\n",
       "if (notebookContainer) {{\n",
       "    x.observe(notebookContainer, {childList: true});\n",
       "}}\n",
       "\n",
       "// Listen for the clearing of the current output cell\n",
       "var outputEl = gd.closest('.output');\n",
       "if (outputEl) {{\n",
       "    x.observe(outputEl, {childList: true});\n",
       "}}\n",
       "\n",
       "                        })                };                });            </script>        </div>"
      ]
     },
     "metadata": {},
     "output_type": "display_data"
    }
   ],
   "source": [
    "Plot(df,\"date\",\"final_score\",df_coin,\"Date\",\"Close\",\"title\",\"final_score\",\"bitcoin price\")"
   ]
  },
  {
   "cell_type": "code",
   "execution_count": 7,
   "metadata": {},
   "outputs": [],
   "source": [
    "## loading datasets with polarity and subjectivity\n",
    "df_tweets = pd.read_csv(\"datasets_with_polarity.csv\")"
   ]
  },
  {
   "cell_type": "code",
   "execution_count": 8,
   "metadata": {},
   "outputs": [],
   "source": [
    "tweets = df_tweets[\"clean_text\"].values"
   ]
  },
  {
   "cell_type": "code",
   "execution_count": 9,
   "metadata": {},
   "outputs": [],
   "source": [
    "#tweets= tweets[:100]"
   ]
  },
  {
   "cell_type": "code",
   "execution_count": 10,
   "metadata": {},
   "outputs": [
    {
     "name": "stderr",
     "output_type": "stream",
     "text": [
      "<>:7: DeprecationWarning:\n",
      "\n",
      "invalid escape sequence \\S\n",
      "\n",
      "<>:7: DeprecationWarning:\n",
      "\n",
      "invalid escape sequence \\S\n",
      "\n",
      "<>:7: DeprecationWarning:\n",
      "\n",
      "invalid escape sequence \\S\n",
      "\n",
      "<ipython-input-10-b7ee3fff5193>:7: DeprecationWarning:\n",
      "\n",
      "invalid escape sequence \\S\n",
      "\n"
     ]
    }
   ],
   "source": [
    "##bag of words, find the frequency of each word in datasets\n",
    "\n",
    "from nltk.tokenize import word_tokenize \n",
    "from nltk.tokenize import RegexpTokenizer\n",
    "\n",
    "pos_words=[]\n",
    "tokenizer = RegexpTokenizer('\\S+')\n",
    "for words in tweets:\n",
    "    pos_words.extend(tokenizer.tokenize(words))\n",
    "    \n",
    "freqG = nltk.FreqDist(pos_words)"
   ]
  },
  {
   "cell_type": "code",
   "execution_count": 11,
   "metadata": {},
   "outputs": [],
   "source": [
    "## find the most common 10 words\n",
    "common_words = freqG.most_common(10)"
   ]
  },
  {
   "cell_type": "code",
   "execution_count": 12,
   "metadata": {},
   "outputs": [],
   "source": [
    "## group dataframe by date, it divided tweets into different days\n",
    "tweet_per_day = df_tweets.groupby(['datetime'])['clean_text'].apply(list).values"
   ]
  },
  {
   "cell_type": "code",
   "execution_count": 13,
   "metadata": {},
   "outputs": [
    {
     "name": "stderr",
     "output_type": "stream",
     "text": [
      "<>:4: DeprecationWarning:\n",
      "\n",
      "invalid escape sequence \\S\n",
      "\n",
      "<>:4: DeprecationWarning:\n",
      "\n",
      "invalid escape sequence \\S\n",
      "\n",
      "<>:4: DeprecationWarning:\n",
      "\n",
      "invalid escape sequence \\S\n",
      "\n",
      "<ipython-input-13-686fe2b83072>:4: DeprecationWarning:\n",
      "\n",
      "invalid escape sequence \\S\n",
      "\n"
     ]
    }
   ],
   "source": [
    "## given the keyword and tweets, return the frequency of word in the tweets\n",
    "def frequency_word_per_day(tweets_day,keyword):\n",
    "    wordslist=[]\n",
    "    tokenizer = RegexpTokenizer('\\S+')\n",
    "    for words in tweets_day:\n",
    "        wordslist.extend(tokenizer.tokenize(words))\n",
    "    \n",
    "    freqw = nltk.FreqDist(wordslist)\n",
    "    if keyword in freqw.keys():\n",
    "        return (freqw[keyword])\n",
    "    else:\n",
    "        return(0)"
   ]
  },
  {
   "cell_type": "code",
   "execution_count": 14,
   "metadata": {},
   "outputs": [
    {
     "data": {
      "text/plain": [
       "0"
      ]
     },
     "execution_count": 14,
     "metadata": {},
     "output_type": "execute_result"
    }
   ],
   "source": [
    "##test\n",
    "frequency_word_per_day(tweet_per_day[0],'zzz')"
   ]
  },
  {
   "cell_type": "code",
   "execution_count": 15,
   "metadata": {},
   "outputs": [
    {
     "data": {
      "text/plain": [
       "[('co', 98612),\n",
       " ('http', 96994),\n",
       " ('btc', 95805),\n",
       " ('bitcoin', 90364),\n",
       " ('crypto', 28107),\n",
       " ('price', 21807),\n",
       " ('eth', 16221),\n",
       " ('cryptocurrency', 15120),\n",
       " ('buy', 9518),\n",
       " ('ethereum', 9199)]"
      ]
     },
     "execution_count": 15,
     "metadata": {},
     "output_type": "execute_result"
    }
   ],
   "source": [
    "## common words is a list of tuple, the numer show the frequency of word occure in the whole datasets\n",
    "common_words "
   ]
  },
  {
   "cell_type": "code",
   "execution_count": 16,
   "metadata": {},
   "outputs": [],
   "source": [
    "freq_words = []\n",
    "for word in common_words:\n",
    "    freq_word = []\n",
    "    for tweets in tweet_per_day:\n",
    "        freq = frequency_word_per_day(tweets,word[0])\n",
    "        freq_word.append(freq)\n",
    "    freq_words.append(freq_word)\n",
    "    "
   ]
  },
  {
   "cell_type": "code",
   "execution_count": 17,
   "metadata": {},
   "outputs": [
    {
     "data": {
      "text/html": [
       "<div>\n",
       "<style scoped>\n",
       "    .dataframe tbody tr th:only-of-type {\n",
       "        vertical-align: middle;\n",
       "    }\n",
       "\n",
       "    .dataframe tbody tr th {\n",
       "        vertical-align: top;\n",
       "    }\n",
       "\n",
       "    .dataframe thead th {\n",
       "        text-align: right;\n",
       "    }\n",
       "</style>\n",
       "<table border=\"1\" class=\"dataframe\">\n",
       "  <thead>\n",
       "    <tr style=\"text-align: right;\">\n",
       "      <th></th>\n",
       "      <th>Unnamed: 0</th>\n",
       "      <th>Unnamed: 0.1</th>\n",
       "      <th>Unnamed: 0.1.1</th>\n",
       "      <th>datetime</th>\n",
       "      <th>user_followers</th>\n",
       "      <th>polarity</th>\n",
       "      <th>subjectivity</th>\n",
       "      <th>date</th>\n",
       "      <th>sim_num</th>\n",
       "      <th>tweets_num</th>\n",
       "      <th>('co', 106)</th>\n",
       "      <th>('http', 104)</th>\n",
       "      <th>('btc', 67)</th>\n",
       "      <th>('bitcoin', 66)</th>\n",
       "      <th>('crypto', 24)</th>\n",
       "      <th>('price', 17)</th>\n",
       "      <th>('eth', 13)</th>\n",
       "      <th>('hour', 10)</th>\n",
       "      <th>('binance', 8)</th>\n",
       "      <th>('ethereum', 8)</th>\n",
       "    </tr>\n",
       "  </thead>\n",
       "  <tbody>\n",
       "    <tr>\n",
       "      <td>0</td>\n",
       "      <td>0</td>\n",
       "      <td>0</td>\n",
       "      <td>0</td>\n",
       "      <td>2021-02-05</td>\n",
       "      <td>4548.698347</td>\n",
       "      <td>0.088654</td>\n",
       "      <td>0.269247</td>\n",
       "      <td>2021-02-05</td>\n",
       "      <td>108</td>\n",
       "      <td>5865</td>\n",
       "      <td>1736</td>\n",
       "      <td>1714</td>\n",
       "      <td>1181</td>\n",
       "      <td>1206</td>\n",
       "      <td>380</td>\n",
       "      <td>208</td>\n",
       "      <td>231</td>\n",
       "      <td>92</td>\n",
       "      <td>60</td>\n",
       "      <td>136</td>\n",
       "    </tr>\n",
       "    <tr>\n",
       "      <td>1</td>\n",
       "      <td>1</td>\n",
       "      <td>1</td>\n",
       "      <td>1</td>\n",
       "      <td>2021-02-06</td>\n",
       "      <td>5057.975290</td>\n",
       "      <td>0.089406</td>\n",
       "      <td>0.254639</td>\n",
       "      <td>2021-02-06</td>\n",
       "      <td>263</td>\n",
       "      <td>5646</td>\n",
       "      <td>3168</td>\n",
       "      <td>3144</td>\n",
       "      <td>2477</td>\n",
       "      <td>2287</td>\n",
       "      <td>574</td>\n",
       "      <td>446</td>\n",
       "      <td>448</td>\n",
       "      <td>176</td>\n",
       "      <td>130</td>\n",
       "      <td>174</td>\n",
       "    </tr>\n",
       "    <tr>\n",
       "      <td>2</td>\n",
       "      <td>2</td>\n",
       "      <td>2</td>\n",
       "      <td>2</td>\n",
       "      <td>2021-02-07</td>\n",
       "      <td>3971.020792</td>\n",
       "      <td>0.104879</td>\n",
       "      <td>0.278468</td>\n",
       "      <td>2021-02-07</td>\n",
       "      <td>221</td>\n",
       "      <td>5102</td>\n",
       "      <td>3028</td>\n",
       "      <td>3000</td>\n",
       "      <td>1891</td>\n",
       "      <td>1854</td>\n",
       "      <td>579</td>\n",
       "      <td>414</td>\n",
       "      <td>368</td>\n",
       "      <td>175</td>\n",
       "      <td>148</td>\n",
       "      <td>183</td>\n",
       "    </tr>\n",
       "    <tr>\n",
       "      <td>3</td>\n",
       "      <td>3</td>\n",
       "      <td>3</td>\n",
       "      <td>3</td>\n",
       "      <td>2021-02-08</td>\n",
       "      <td>8519.301452</td>\n",
       "      <td>0.094760</td>\n",
       "      <td>0.267916</td>\n",
       "      <td>2021-02-08</td>\n",
       "      <td>426</td>\n",
       "      <td>4708</td>\n",
       "      <td>5178</td>\n",
       "      <td>5137</td>\n",
       "      <td>4535</td>\n",
       "      <td>4760</td>\n",
       "      <td>1122</td>\n",
       "      <td>571</td>\n",
       "      <td>440</td>\n",
       "      <td>247</td>\n",
       "      <td>212</td>\n",
       "      <td>242</td>\n",
       "    </tr>\n",
       "    <tr>\n",
       "      <td>4</td>\n",
       "      <td>4</td>\n",
       "      <td>4</td>\n",
       "      <td>4</td>\n",
       "      <td>2021-02-09</td>\n",
       "      <td>7326.900000</td>\n",
       "      <td>0.094839</td>\n",
       "      <td>0.269521</td>\n",
       "      <td>2021-02-09</td>\n",
       "      <td>300</td>\n",
       "      <td>4651</td>\n",
       "      <td>4241</td>\n",
       "      <td>4196</td>\n",
       "      <td>3180</td>\n",
       "      <td>3253</td>\n",
       "      <td>641</td>\n",
       "      <td>543</td>\n",
       "      <td>456</td>\n",
       "      <td>275</td>\n",
       "      <td>176</td>\n",
       "      <td>227</td>\n",
       "    </tr>\n",
       "  </tbody>\n",
       "</table>\n",
       "</div>"
      ],
      "text/plain": [
       "   Unnamed: 0  Unnamed: 0.1  Unnamed: 0.1.1    datetime  user_followers  \\\n",
       "0           0             0               0  2021-02-05     4548.698347   \n",
       "1           1             1               1  2021-02-06     5057.975290   \n",
       "2           2             2               2  2021-02-07     3971.020792   \n",
       "3           3             3               3  2021-02-08     8519.301452   \n",
       "4           4             4               4  2021-02-09     7326.900000   \n",
       "\n",
       "   polarity  subjectivity        date  sim_num  tweets_num  ('co', 106)  \\\n",
       "0  0.088654      0.269247  2021-02-05      108        5865         1736   \n",
       "1  0.089406      0.254639  2021-02-06      263        5646         3168   \n",
       "2  0.104879      0.278468  2021-02-07      221        5102         3028   \n",
       "3  0.094760      0.267916  2021-02-08      426        4708         5178   \n",
       "4  0.094839      0.269521  2021-02-09      300        4651         4241   \n",
       "\n",
       "   ('http', 104)  ('btc', 67)  ('bitcoin', 66)  ('crypto', 24)  ('price', 17)  \\\n",
       "0           1714         1181             1206             380            208   \n",
       "1           3144         2477             2287             574            446   \n",
       "2           3000         1891             1854             579            414   \n",
       "3           5137         4535             4760            1122            571   \n",
       "4           4196         3180             3253             641            543   \n",
       "\n",
       "   ('eth', 13)  ('hour', 10)  ('binance', 8)  ('ethereum', 8)  \n",
       "0          231            92              60              136  \n",
       "1          448           176             130              174  \n",
       "2          368           175             148              183  \n",
       "3          440           247             212              242  \n",
       "4          456           275             176              227  "
      ]
     },
     "execution_count": 17,
     "metadata": {},
     "output_type": "execute_result"
    }
   ],
   "source": [
    "df.head()"
   ]
  },
  {
   "cell_type": "code",
   "execution_count": 18,
   "metadata": {},
   "outputs": [],
   "source": [
    "## add key words frequency to dataframe result\n",
    "for i,word in enumerate(common_words):\n",
    "    df[word] = freq_words[i]"
   ]
  },
  {
   "cell_type": "code",
   "execution_count": 19,
   "metadata": {},
   "outputs": [],
   "source": [
    "##save result\n",
    "df.to_csv(\"results.csv\")"
   ]
  },
  {
   "cell_type": "code",
   "execution_count": 20,
   "metadata": {},
   "outputs": [
    {
     "data": {
      "image/png": "[encoded data removed]",
      "text/plain": [
       "<Figure size 432x288 with 1 Axes>"
      ]
     },
     "metadata": {
      "needs_background": "light"
     },
     "output_type": "display_data"
    },
    {
     "data": {
      "text/plain": [
       "<matplotlib.axes._subplots.AxesSubplot at 0x1a3e8bf710>"
      ]
     },
     "execution_count": 20,
     "metadata": {},
     "output_type": "execute_result"
    }
   ],
   "source": [
    "freqG.plot(20) "
   ]
  },
  {
   "cell_type": "code",
   "execution_count": 21,
   "metadata": {},
   "outputs": [
    {
     "name": "stderr",
     "output_type": "stream",
     "text": [
      "<>:12: DeprecationWarning:\n",
      "\n",
      "invalid escape sequence \\S\n",
      "\n",
      "<>:12: DeprecationWarning:\n",
      "\n",
      "invalid escape sequence \\S\n",
      "\n",
      "<>:12: DeprecationWarning:\n",
      "\n",
      "invalid escape sequence \\S\n",
      "\n",
      "<ipython-input-21-5daad38cd8ab>:12: DeprecationWarning:\n",
      "\n",
      "invalid escape sequence \\S\n",
      "\n"
     ]
    }
   ],
   "source": [
    "##remove the keyword in sentence\n",
    "def remove_keyword(sentence,keyword):\n",
    "    \"\"\"\n",
    "    input: \n",
    "        sentence: str\n",
    "        keyword: str\n",
    "    output:\n",
    "        sentence after removing keyword\n",
    "    \n",
    "    \"\"\"\n",
    "    new_tweets = []\n",
    "    tokenizer = RegexpTokenizer('\\S+')\n",
    "    test = tokenizer.tokenize(t)\n",
    "    for word in test:\n",
    "        i = 0\n",
    "        if i>0 and word == keyword:\n",
    "            continue\n",
    "        elif word == key_word:\n",
    "            new_tweets.append(word)\n",
    "            i+=1\n",
    "        else:\n",
    "            new_tweets.append(word)\n",
    "    sentence = \" \".join(new_tweets)\n",
    "    \n",
    "    return sentence"
   ]
  },
  {
   "cell_type": "code",
   "execution_count": 22,
   "metadata": {},
   "outputs": [],
   "source": [
    "#remove_keyword(t,\"blue\")"
   ]
  },
  {
   "cell_type": "code",
   "execution_count": null,
   "metadata": {},
   "outputs": [],
   "source": []
  },
  {
   "cell_type": "code",
   "execution_count": null,
   "metadata": {},
   "outputs": [],
   "source": []
  }
 ],
 "metadata": {
  "kernelspec": {
   "display_name": "Python 3",
   "language": "python",
   "name": "python3"
  },
  "language_info": {
   "codemirror_mode": {
    "name": "ipython",
    "version": 3
   },
   "file_extension": ".py",
   "mimetype": "text/x-python",
   "name": "python",
   "nbconvert_exporter": "python",
   "pygments_lexer": "ipython3",
   "version": "3.7.4"
  }
 },
 "nbformat": 4,
 "nbformat_minor": 5
}
